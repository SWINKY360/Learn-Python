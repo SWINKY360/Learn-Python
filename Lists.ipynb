{
  "nbformat": 4,
  "nbformat_minor": 0,
  "metadata": {
    "colab": {
      "name": "Lists.ipynb",
      "provenance": [],
      "toc_visible": true,
      "authorship_tag": "ABX9TyOh+BTwLzEyHtAnUP9mhb1T",
      "include_colab_link": true
    },
    "kernelspec": {
      "name": "python3",
      "display_name": "Python 3"
    },
    "language_info": {
      "name": "python"
    }
  },
  "cells": [
    {
      "cell_type": "markdown",
      "metadata": {
        "id": "view-in-github",
        "colab_type": "text"
      },
      "source": [
        "<a href=\"https://colab.research.google.com/github/SWINKY360/Learn-Python/blob/main/Lists.ipynb\" target=\"_parent\"><img src=\"https://colab.research.google.com/assets/colab-badge.svg\" alt=\"Open In Colab\"/></a>"
      ]
    },
    {
      "cell_type": "markdown",
      "source": [
        "# Lists"
      ],
      "metadata": {
        "id": "LTzm94F_Z1UT"
      }
    },
    {
      "cell_type": "code",
      "execution_count": 59,
      "metadata": {
        "colab": {
          "base_uri": "https://localhost:8080/"
        },
        "id": "KYblT9DQZt5z",
        "outputId": "aa48cf92-4f62-4004-a18f-d87af0053fce"
      },
      "outputs": [
        {
          "output_type": "stream",
          "name": "stdout",
          "text": [
            "['road', 'mountain', 'electric']\n"
          ]
        }
      ],
      "source": [
        "# A List is a collection of items in a certain order\n",
        "# square brackets []\n",
        "# items seperated by commas\n",
        "\n",
        "bicycles = ['road','mountain','electric']\n",
        "print(bicycles)"
      ]
    },
    {
      "cell_type": "code",
      "source": [
        "#Elements in a list is located by its index\n",
        "print(bicycles[0])\n",
        "print(bicycles[-1])"
      ],
      "metadata": {
        "colab": {
          "base_uri": "https://localhost:8080/"
        },
        "id": "5z4F2_0SanzH",
        "outputId": "b4a38860-2f9b-45ac-e4b0-7a6777ff7b1e"
      },
      "execution_count": 60,
      "outputs": [
        {
          "output_type": "stream",
          "name": "stdout",
          "text": [
            "road\n",
            "electric\n"
          ]
        }
      ]
    },
    {
      "cell_type": "markdown",
      "source": [
        "# Adding Elements"
      ],
      "metadata": {
        "id": "SGhPj3VIdGmS"
      }
    },
    {
      "cell_type": "code",
      "source": [
        "#creates and prints of lists of motorcycles\n",
        "motorcycles = ['honda','yamaha','suzuki']\n",
        "print(motorcycles)\n"
      ],
      "metadata": {
        "colab": {
          "base_uri": "https://localhost:8080/"
        },
        "id": "G65rrlLNdK5r",
        "outputId": "6336c6a9-679a-4116-ae08-5a43b61da8f2"
      },
      "execution_count": 61,
      "outputs": [
        {
          "output_type": "stream",
          "name": "stdout",
          "text": [
            "['honda', 'yamaha', 'suzuki']\n"
          ]
        }
      ]
    },
    {
      "cell_type": "code",
      "source": [
        "#pulls up item in the list by its index and changes its value\n",
        "motorcycles[0]= 'ducati' \n",
        "print(motorcycles)"
      ],
      "metadata": {
        "colab": {
          "base_uri": "https://localhost:8080/"
        },
        "id": "YCuHxHIqX9Kv",
        "outputId": "7f12f85f-9559-46c4-bf96-d8fb4337a239"
      },
      "execution_count": 62,
      "outputs": [
        {
          "output_type": "stream",
          "name": "stdout",
          "text": [
            "['ducati', 'yamaha', 'suzuki']\n"
          ]
        }
      ]
    },
    {
      "cell_type": "code",
      "source": [
        "#adds a item to the end of a list\n",
        "motorcycles.append('honda')\n",
        "print(motorcycles)\n"
      ],
      "metadata": {
        "colab": {
          "base_uri": "https://localhost:8080/"
        },
        "id": "CWT1rdgCYbJ0",
        "outputId": "112a596a-b7ff-4ac1-c807-b7bfd2130c0a"
      },
      "execution_count": 63,
      "outputs": [
        {
          "output_type": "stream",
          "name": "stdout",
          "text": [
            "['ducati', 'yamaha', 'suzuki', 'honda']\n"
          ]
        }
      ]
    },
    {
      "cell_type": "code",
      "source": [
        "#creates an empty list\n",
        "bikes= []\n",
        "bikes.append(motorcycles[0])\n",
        "bikes.append(motorcycles[1])\n",
        "bikes.append(motorcycles[2])\n",
        "print(bikes)"
      ],
      "metadata": {
        "colab": {
          "base_uri": "https://localhost:8080/"
        },
        "id": "83TZU8NwZKQY",
        "outputId": "a62ec4bc-d46b-40c2-c231-677334fea564"
      },
      "execution_count": 64,
      "outputs": [
        {
          "output_type": "stream",
          "name": "stdout",
          "text": [
            "['ducati', 'yamaha', 'suzuki']\n"
          ]
        }
      ]
    },
    {
      "cell_type": "code",
      "source": [
        "#insert method\n",
        "motorcycles.insert(0,'toyota')\n",
        "motorcycles.insert(0,'toyota')\n",
        "motorcycles.insert(0,'toyota')\n",
        "print(motorcycles)"
      ],
      "metadata": {
        "colab": {
          "base_uri": "https://localhost:8080/"
        },
        "id": "s1Lil9s0Z1Ee",
        "outputId": "39deac45-f31e-462d-f159-e86d78c28e11"
      },
      "execution_count": 65,
      "outputs": [
        {
          "output_type": "stream",
          "name": "stdout",
          "text": [
            "['toyota', 'toyota', 'toyota', 'ducati', 'yamaha', 'suzuki', 'honda']\n"
          ]
        }
      ]
    },
    {
      "cell_type": "code",
      "source": [
        "#remove method\n",
        "#removes firts occurrence of an item\n",
        "motorcycles.remove('toyota')\n",
        "print(motorcycles)"
      ],
      "metadata": {
        "colab": {
          "base_uri": "https://localhost:8080/"
        },
        "id": "5cQHtbR-aygr",
        "outputId": "115084ca-5d80-4abc-9377-5b4166aa3268"
      },
      "execution_count": 66,
      "outputs": [
        {
          "output_type": "stream",
          "name": "stdout",
          "text": [
            "['toyota', 'toyota', 'ducati', 'yamaha', 'suzuki', 'honda']\n"
          ]
        }
      ]
    },
    {
      "cell_type": "code",
      "source": [
        "#del method\n",
        "#removes an item based on its postions\n",
        "del motorcycles[0]\n",
        "print(motorcycles)"
      ],
      "metadata": {
        "colab": {
          "base_uri": "https://localhost:8080/"
        },
        "id": "rHn1mrF-cCD-",
        "outputId": "7bd71be8-0c44-4f8d-8325-4d9f5b5244b6"
      },
      "execution_count": 67,
      "outputs": [
        {
          "output_type": "stream",
          "name": "stdout",
          "text": [
            "['toyota', 'ducati', 'yamaha', 'suzuki', 'honda']\n"
          ]
        }
      ]
    },
    {
      "cell_type": "code",
      "source": [
        "#pop method\n",
        "#Remove and return item at index (default last)\n",
        "pop_motorcyles= motorcycles.pop()\n",
        "pop_motorcyles= motorcycles.pop(0)\n",
        "print(motorcycles)"
      ],
      "metadata": {
        "colab": {
          "base_uri": "https://localhost:8080/"
        },
        "id": "sWHxmkkEcWS2",
        "outputId": "983727e6-46f6-4b85-8270-ab5ddbf03556"
      },
      "execution_count": 68,
      "outputs": [
        {
          "output_type": "stream",
          "name": "stdout",
          "text": [
            "['ducati', 'yamaha', 'suzuki']\n"
          ]
        }
      ]
    },
    {
      "cell_type": "markdown",
      "source": [
        "# Organizing a List"
      ],
      "metadata": {
        "id": "cSBy4P9PeQaK"
      }
    },
    {
      "cell_type": "code",
      "source": [
        "bikes"
      ],
      "metadata": {
        "colab": {
          "base_uri": "https://localhost:8080/"
        },
        "id": "6PCDvZxEeXIK",
        "outputId": "5b669df6-95d0-4560-814e-53dc7d3b2df6"
      },
      "execution_count": 69,
      "outputs": [
        {
          "output_type": "execute_result",
          "data": {
            "text/plain": [
              "['ducati', 'yamaha', 'suzuki']"
            ]
          },
          "metadata": {},
          "execution_count": 69
        }
      ]
    },
    {
      "cell_type": "code",
      "source": [
        "#sorts a lists, changes the order permamently \n",
        "bikes.sort()\n",
        "print(bikes)"
      ],
      "metadata": {
        "colab": {
          "base_uri": "https://localhost:8080/"
        },
        "id": "d6TLy08_ec6x",
        "outputId": "17cf76d1-b981-43d8-c888-ce134eb3877f"
      },
      "execution_count": 70,
      "outputs": [
        {
          "output_type": "stream",
          "name": "stdout",
          "text": [
            "['ducati', 'suzuki', 'yamaha']\n"
          ]
        }
      ]
    },
    {
      "cell_type": "code",
      "source": [
        "bikes.reverse()\n",
        "print(bikes)"
      ],
      "metadata": {
        "colab": {
          "base_uri": "https://localhost:8080/"
        },
        "id": "dgMpMrFVfAe3",
        "outputId": "e94a96f7-a668-402d-b277-a784ea9e47ea"
      },
      "execution_count": 71,
      "outputs": [
        {
          "output_type": "stream",
          "name": "stdout",
          "text": [
            "['yamaha', 'suzuki', 'ducati']\n"
          ]
        }
      ]
    },
    {
      "cell_type": "code",
      "source": [
        "#counts the number of occurences in the list\n",
        "bikes.count(\"yamaha\")"
      ],
      "metadata": {
        "colab": {
          "base_uri": "https://localhost:8080/"
        },
        "id": "bskLVJngfbe8",
        "outputId": "f60808bb-3070-476c-d1d8-03c47d66b681"
      },
      "execution_count": 72,
      "outputs": [
        {
          "output_type": "execute_result",
          "data": {
            "text/plain": [
              "1"
            ]
          },
          "metadata": {},
          "execution_count": 72
        }
      ]
    },
    {
      "cell_type": "code",
      "source": [
        "#lenght of a list use the len() method\n",
        "len(bikes)"
      ],
      "metadata": {
        "colab": {
          "base_uri": "https://localhost:8080/"
        },
        "id": "7yzestk1f1S-",
        "outputId": "6de3ddef-e13e-4f66-cfe6-2ed342bb01f0"
      },
      "execution_count": 73,
      "outputs": [
        {
          "output_type": "execute_result",
          "data": {
            "text/plain": [
              "3"
            ]
          },
          "metadata": {},
          "execution_count": 73
        }
      ]
    },
    {
      "cell_type": "code",
      "source": [
        "#Temporary sorts a list, no changes made to the original list \n",
        "print(sorted(motorcycles))"
      ],
      "metadata": {
        "colab": {
          "base_uri": "https://localhost:8080/"
        },
        "id": "7kjFq013gNrT",
        "outputId": "e5f84d2d-4546-4b99-9ba9-0488447e7bac"
      },
      "execution_count": 74,
      "outputs": [
        {
          "output_type": "stream",
          "name": "stdout",
          "text": [
            "['ducati', 'suzuki', 'yamaha']\n"
          ]
        }
      ]
    }
  ]
}