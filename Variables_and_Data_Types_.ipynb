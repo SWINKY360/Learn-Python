{
  "nbformat": 4,
  "nbformat_minor": 0,
  "metadata": {
    "colab": {
      "name": "Variables and Data Types .ipynb",
      "provenance": [],
      "toc_visible": true,
      "authorship_tag": "ABX9TyOec8vIk6rAHBCnrfiyfW95",
      "include_colab_link": true
    },
    "kernelspec": {
      "name": "python3",
      "display_name": "Python 3"
    },
    "language_info": {
      "name": "python"
    }
  },
  "cells": [
    {
      "cell_type": "markdown",
      "metadata": {
        "id": "view-in-github",
        "colab_type": "text"
      },
      "source": [
        "<a href=\"https://colab.research.google.com/github/SWINKY360/Learn-Python/blob/main/Variables_and_Data_Types_.ipynb\" target=\"_parent\"><img src=\"https://colab.research.google.com/assets/colab-badge.svg\" alt=\"Open In Colab\"/></a>"
      ]
    },
    {
      "cell_type": "markdown",
      "source": [
        "# Variable"
      ],
      "metadata": {
        "id": "59IDhrf_PBUk"
      }
    },
    {
      "cell_type": "code",
      "execution_count": null,
      "metadata": {
        "colab": {
          "base_uri": "https://localhost:8080/"
        },
        "id": "tgDLf_iVNYUy",
        "outputId": "f80a55f9-7bf3-4649-8c9e-b29b7e67766f"
      },
      "outputs": [
        {
          "output_type": "stream",
          "name": "stdout",
          "text": [
            "Hello world\n"
          ]
        }
      ],
      "source": [
        "## This is a variable\n",
        "message = \"Hello world\"\n",
        "print(message)"
      ]
    },
    {
      "cell_type": "code",
      "source": [
        "#changes the variable\n",
        "message = \"My name is HAl\" \n",
        "print(message)"
      ],
      "metadata": {
        "colab": {
          "base_uri": "https://localhost:8080/"
        },
        "id": "E5pvSv1WOj6s",
        "outputId": "5cfef998-39a7-4bce-b6d4-55f0e3937ad1"
      },
      "execution_count": null,
      "outputs": [
        {
          "output_type": "stream",
          "name": "stdout",
          "text": [
            "My name is HAl\n"
          ]
        }
      ]
    },
    {
      "cell_type": "markdown",
      "source": [
        "# Strings"
      ],
      "metadata": {
        "id": "qm-l4dVyPJmT"
      }
    },
    {
      "cell_type": "code",
      "source": [
        "# A string is a series of characters \n",
        "# Anything inside quotes is considered a string in python \"\"\n",
        "# A method is an action you can perform on a piece of data"
      ],
      "metadata": {
        "id": "ujOD8l2HPOFM"
      },
      "execution_count": null,
      "outputs": []
    },
    {
      "cell_type": "code",
      "source": [
        "name = \"ada love\"\n",
        "print(name.title()) #Makes string in uppercase\n",
        "print(name.upper()) #\n",
        "print(name.lower())"
      ],
      "metadata": {
        "colab": {
          "base_uri": "https://localhost:8080/"
        },
        "id": "fDzyYTeVPp1s",
        "outputId": "47a3fa7e-dcab-41a7-e770-9bafc0955e6a"
      },
      "execution_count": null,
      "outputs": [
        {
          "output_type": "stream",
          "name": "stdout",
          "text": [
            "Ada Love\n",
            "ADA LOVE\n",
            "ada love\n"
          ]
        }
      ]
    },
    {
      "cell_type": "code",
      "source": [
        "#Combining strings\n",
        "first_name = 'ada'\n",
        "last_name = 'love'\n",
        "full_name = first_name +\" \"+ last_name \n",
        "print(\"Hello\",full_name.title()+\"!\")"
      ],
      "metadata": {
        "colab": {
          "base_uri": "https://localhost:8080/"
        },
        "id": "JPqlyf8nP6ja",
        "outputId": "f160a35c-561b-4085-d9b0-612c02556b60"
      },
      "execution_count": null,
      "outputs": [
        {
          "output_type": "stream",
          "name": "stdout",
          "text": [
            "Hello Ada Love!\n"
          ]
        }
      ]
    },
    {
      "cell_type": "code",
      "source": [
        "message = \"Hello\" +\" \" + full_name.title()\n",
        "print(message)"
      ],
      "metadata": {
        "colab": {
          "base_uri": "https://localhost:8080/"
        },
        "id": "AtulFlcKRBY4",
        "outputId": "f5f7d65c-6261-4571-bade-a3b3049d65a8"
      },
      "execution_count": null,
      "outputs": [
        {
          "output_type": "stream",
          "name": "stdout",
          "text": [
            "Hello Ada Love\n"
          ]
        }
      ]
    },
    {
      "cell_type": "code",
      "source": [
        "#to add a tab \\t\n",
        "#to add a new line \\n\n",
        "print(\"\\tpython\")\n",
        "print(\"\\npython\")"
      ],
      "metadata": {
        "colab": {
          "base_uri": "https://localhost:8080/"
        },
        "id": "tCbeOyDJSCWa",
        "outputId": "7b26b3a1-acfb-4447-9b3d-81aeef7387d8"
      },
      "execution_count": null,
      "outputs": [
        {
          "output_type": "stream",
          "name": "stdout",
          "text": [
            "\tpython\n",
            "\n",
            "python\n"
          ]
        }
      ]
    },
    {
      "cell_type": "code",
      "source": [
        "#remove white space use method rstrip() and lstrip() strip\n",
        "name = \"      Lovegood \"\n",
        "print(name)"
      ],
      "metadata": {
        "colab": {
          "base_uri": "https://localhost:8080/"
        },
        "id": "c7FnpW9ATOFS",
        "outputId": "fd76960e-3280-4294-f95b-8cf42251d2a1"
      },
      "execution_count": null,
      "outputs": [
        {
          "output_type": "stream",
          "name": "stdout",
          "text": [
            "      Lovegood \n"
          ]
        }
      ]
    },
    {
      "cell_type": "code",
      "source": [
        "name = name.strip()\n",
        "print(name)"
      ],
      "metadata": {
        "colab": {
          "base_uri": "https://localhost:8080/"
        },
        "id": "WdnvE2BQTZvA",
        "outputId": "66955c28-f6a7-47a9-d6d9-44b8630013e8"
      },
      "execution_count": null,
      "outputs": [
        {
          "output_type": "stream",
          "name": "stdout",
          "text": [
            "Lovegood\n"
          ]
        }
      ]
    },
    {
      "cell_type": "code",
      "source": [
        "quote= \"The cost of a thing is the amount of what I will call life which is required to be exchanged for it, immediately or in the long run.\"\n",
        "author= \"Henry David Thoreau, Walden\"\n",
        "print(quote)\n",
        "print(author)"
      ],
      "metadata": {
        "colab": {
          "base_uri": "https://localhost:8080/"
        },
        "id": "8k6EUUB0UcnK",
        "outputId": "5796f622-e22e-4baa-c517-32eb2cf241c7"
      },
      "execution_count": null,
      "outputs": [
        {
          "output_type": "stream",
          "name": "stdout",
          "text": [
            "The cost of a thing is the amount of what I will call life which is required to be exchanged for it, immediately or in the long run.\n",
            "Henry David Thoreau, Walden\n"
          ]
        }
      ]
    },
    {
      "cell_type": "markdown",
      "source": [
        "# Numbers"
      ],
      "metadata": {
        "id": "8dTeZt3NXEoN"
      }
    },
    {
      "cell_type": "code",
      "source": [
        "#Basic math + - / *, \n",
        "#supports order of operations\n",
        "(2+3)**4"
      ],
      "metadata": {
        "colab": {
          "base_uri": "https://localhost:8080/"
        },
        "id": "Z1sVMfO9XL7A",
        "outputId": "37787a86-8dc5-4740-90bf-e9105bbcdc20"
      },
      "execution_count": null,
      "outputs": [
        {
          "output_type": "execute_result",
          "data": {
            "text/plain": [
              "625"
            ]
          },
          "metadata": {},
          "execution_count": 46
        }
      ]
    },
    {
      "cell_type": "code",
      "source": [
        "#floats Any number with a decimal point\n",
        "age=23\n",
        "message= \"happy\" +\" \" + str(age) + \"rd Birthday!\"\n",
        "print(message)"
      ],
      "metadata": {
        "colab": {
          "base_uri": "https://localhost:8080/"
        },
        "id": "oVQeo5nKXpkf",
        "outputId": "3a0c8f2c-e1d9-4a9c-c7c2-dad19e0b2e7e"
      },
      "execution_count": null,
      "outputs": [
        {
          "output_type": "stream",
          "name": "stdout",
          "text": [
            "happy 23rd Birthday!\n"
          ]
        }
      ]
    }
  ]
}